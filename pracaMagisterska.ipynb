{
 "cells": [
  {
   "cell_type": "code",
   "execution_count": 21,
   "id": "6c375cc3",
   "metadata": {},
   "outputs": [],
   "source": [
    "import os\n",
    "import mne\n",
    "import shutil\n",
    "\n",
    "import numpy as np\n",
    "import scipy.io as io\n",
    "\n",
    "from typing import List"
   ]
  },
  {
   "cell_type": "code",
   "execution_count": 26,
   "id": "e7dcf94a",
   "metadata": {},
   "outputs": [],
   "source": [
    "filename = \"dane_eeg.zip\"\n",
    "extract_dir = \"dane_eeg\"\n",
    "seizure_occ_file = \"dane_eeg/czasy_napadow.m\"\n",
    "healthy_dir = \"dane_eeg/zdrowi\"\n",
    "unhealthy_dir = \"dane_eeg/chorzy\"\n",
    "\n",
    "# shutil.unpack_archive(filename, extract_dir)"
   ]
  },
  {
   "cell_type": "code",
   "execution_count": 27,
   "id": "e751ca70",
   "metadata": {},
   "outputs": [],
   "source": [
    "\n",
    "def get_mat_files(base_path): \n",
    "    mat_files_list = []\n",
    "    filenames = {}\n",
    "\n",
    "    for file in os.listdir(base_path):\n",
    "        if file.endswith(\".mat\"):\n",
    "            mat_files_list.append(base_path + \"/\" + file)\n",
    "            \n",
    "    for filename in mat_files_list:        \n",
    "        filenames[filename.split('/')[-1].split('_')[0]] = filename\n",
    "        \n",
    "    return mat_files_list, filenames\n",
    "\n",
    "\n",
    "healthy_paths, healthy_patients_dict = get_mat_files(healthy_dir)\n",
    "unhealthy_paths, unhealthy_patients_dict = get_mat_files(unhealthy_dir)"
   ]
  },
  {
   "cell_type": "code",
   "execution_count": 29,
   "id": "d36273b8",
   "metadata": {},
   "outputs": [],
   "source": [
    "import re\n",
    "\n",
    "def get_all_seizure_occurrences(file_path):\n",
    "    all_occurrences = {}\n",
    "    with open (file_path , 'r') as file:\n",
    "        for line in file :\n",
    "            line_number = int(re.search(r'{([0-9]+)}', line).group(1))\n",
    "            occ_list = list(map(int, re.search(r'\\[(.+?)]', line).group(1).split()))\n",
    "            all_occurrences[line_number] = occ_list\n",
    "    return all_occurrences\n",
    "\n",
    "\n",
    "seizure_occurences = get_all_seizure_occurrences(seizure_occ_file)"
   ]
  },
  {
   "cell_type": "code",
   "execution_count": 30,
   "id": "f18e3269",
   "metadata": {},
   "outputs": [],
   "source": [
    "class Seizure:\n",
    "    def __init__ (self, id, filename, samples, seizure_occurences=None, frequency=100, channels=16) -> None :\n",
    "        super (). __init__ ()\n",
    "        self.id = id\n",
    "        self.filename = filename\n",
    "        self.samples = samples\n",
    "        self.seizure_occurences = seizure_occurences\n",
    "        self.frequency = frequency\n",
    "        self.channels = channels"
   ]
  },
  {
   "cell_type": "code",
   "execution_count": 34,
   "id": "fa5c5b61",
   "metadata": {},
   "outputs": [],
   "source": [
    "def healthy_patients(healthy_people_dict):\n",
    "    healthy_patients = []\n",
    "    for id, path in healthy_people_dict.items():\n",
    "        samples = io.loadmat(path)['x']\n",
    "        filename = os.path.basename(path)\n",
    "        healthy_patients.append(Seizure(id, filename, samples))\n",
    " \n",
    "    return healthy_patients\n",
    "\n",
    "def unhealthy_patients(unhealthy_people_dict, seizure_occurences):\n",
    "    unhealthy_patients = []\n",
    "    for id, path in unhealthy_people_dict.items():\n",
    "        seizure_occ = seizure_occurences[int(id)]\n",
    "        samples = io.loadmat(path)['x']\n",
    "        filename = os.path.basename(path)\n",
    "        unhealthy_patients.append(Seizure(id, filename, samples, seizure_occurences=seizure_occ))\n",
    " \n",
    "    return unhealthy_patients"
   ]
  },
  {
   "cell_type": "code",
   "execution_count": 35,
   "id": "a9b19c41",
   "metadata": {},
   "outputs": [],
   "source": [
    "healthy_list: List[Seizure] = healthy_patients(healthy_patients_dict)\n",
    "unhealthy_list: List[Seizure] = unhealthy_patients(unhealthy_patients_dict, seizure_occurences)"
   ]
  },
  {
   "cell_type": "code",
   "execution_count": 40,
   "id": "0b44d225",
   "metadata": {},
   "outputs": [],
   "source": [
    "def saveToPng(figure, filename, seizure_time):\n",
    "    base_filename = os.path.splitext(filename)[0]\n",
    "    dir_name = dir_img + base_filename\n",
    "    if not os.path.exists(dir_name):\n",
    "        os. makedirs( dir_name )\n",
    "    figure.savefig(dir_name + '/' + base_filename + str(seizure_time) + '.png')\n",
    "\n",
    "\n",
    "def plot_all_attacks(unhealthy_people, save_to_png=False):\n",
    " # colored blocks for visualization of attack\n",
    "    def create_annotations( matches ):\n",
    "        events = [x for x in matches ]\n",
    "        return mne.Annotations(onset=events, duration=2, description=['seizure ' + str(x) for x in matches])\n",
    "\n",
    "    def visualize(filename, samples, seizure_time, all_events, save_to_png):\n",
    "        ch_names = list(map(str,range(1,17))) \n",
    "        info = mne.create_info(ch_names=ch_names, sfreq =100)\n",
    "        raw = mne.io.RawArray(np.transpose(samples), info)\n",
    "        raw.set_annotations(all_events)\n",
    "\n",
    "        figure = raw.plot(n_channels=ch_number, scalings='auto', title=filename + 'Time of seizure: ' + str(seizure_time), block=False, start=max(0, seizure_time - 5), duration=10)\n",
    " \n",
    "        if save_to_png:\n",
    "            saveToPng(figure, filename, seizure_time)\n",
    "\n",
    "    for person in unhealthy_people:\n",
    "        all_events = create_annotations(person.seizure_occurences)\n",
    "        for seizure_time in person.seizure_occurences:\n",
    "            visualize(person.filename, person.samples, seizure_time, all_events, save_to_png)\n",
    "\n",
    "# use only once for creating images of seizures\n",
    "plot_all_attacks(unhealthy_list, save_to_png = True)"
   ]
  }
 ],
 "metadata": {
  "kernelspec": {
   "display_name": "Python 3 (ipykernel)",
   "language": "python",
   "name": "python3"
  },
  "language_info": {
   "codemirror_mode": {
    "name": "ipython",
    "version": 3
   },
   "file_extension": ".py",
   "mimetype": "text/x-python",
   "name": "python",
   "nbconvert_exporter": "python",
   "pygments_lexer": "ipython3",
   "version": "3.10.1"
  }
 },
 "nbformat": 4,
 "nbformat_minor": 5
}
