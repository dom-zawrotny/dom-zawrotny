{
 "cells": [
  {
   "cell_type": "code",
   "execution_count": 3,
   "id": "6c375cc3",
   "metadata": {},
   "outputs": [],
   "source": [
    "import os\n",
    "import io\n",
    "import shutil\n",
    "\n",
    "import mne\n",
    "\n",
    "import numpy as np\n",
    "\n"
   ]
  },
  {
   "cell_type": "code",
   "execution_count": 4,
   "id": "e7dcf94a",
   "metadata": {},
   "outputs": [],
   "source": [
    "filename = \"dane_eeg.zip\"\n",
    "extract_dir = \"dane_eeg\"\n",
    "seizure_occ_file = \"dane_eeg/czasy_napadow.m\"\n",
    "healthy_dir = \"dane_eeg/zdrowi\"\n",
    "diagnosed_dir = \"dane_eeg/chorzy\"\n",
    "\n",
    "# shutil.unpack_archive(filename, extract_dir)"
   ]
  },
  {
   "cell_type": "code",
   "execution_count": 5,
   "id": "e751ca70",
   "metadata": {},
   "outputs": [],
   "source": [
    "\n",
    "def get_mat_files(base_path): \n",
    "    mat_files_list = []\n",
    "    filenames = {}\n",
    "\n",
    "    for file in os.listdir(base_path):\n",
    "        if file.endswith(\".mat\"):\n",
    "            mat_files_list.append(base_path + \"/\" + file)\n",
    "            \n",
    "    for filename in mat_files_list:        \n",
    "        filenames[filename.split('/')[-1].split('_')[0]] = filename\n",
    "        \n",
    "    return mat_files_list, filenames\n",
    "\n",
    "\n",
    "healthy_paths, healthy_patients_dict = get_mat_files(healthy_dir)\n",
    "diagnosed_paths, diagnosed_patients_dict = get_mat_files(diagnosed_dir)"
   ]
  },
  {
   "cell_type": "code",
   "execution_count": 6,
   "id": "d36273b8",
   "metadata": {},
   "outputs": [],
   "source": [
    "import re\n",
    "\n",
    "def get_all_occurrences(file_path):\n",
    "    all_occurrences = {}\n",
    "    with open (file_path , 'r') as file:\n",
    "        for line in file :\n",
    "            line_number = int(re.search(r'{([0-9]+)}', line).group(1))\n",
    "            occ_list = list(map(int, re.search(r'\\[(.+?)]', line).group(1).split()))\n",
    "            all_occurrences[line_number] = occ_list\n",
    "    return all_occurrences\n",
    "\n",
    "\n",
    "occurences = get_all_occurrences(seizure_occ_file)"
   ]
  },
  {
   "cell_type": "code",
   "execution_count": 7,
   "id": "f18e3269",
   "metadata": {},
   "outputs": [],
   "source": [
    "class Seizure:\n",
    "    def __init__ (self, id, filename, samples, seizure_occurences=None, frequency=100, channels=16) -> None :\n",
    "        super (). __init__ ()\n",
    "        self.id = id\n",
    "        self.filename = filename\n",
    "        self.samples = samples\n",
    "        self.seizure_occurences = seizure_occurences\n",
    "        self.frequency = frequency\n",
    "        self.channels = channels"
   ]
  },
  {
   "cell_type": "code",
   "execution_count": 8,
   "id": "fa5c5b61",
   "metadata": {},
   "outputs": [],
   "source": [
    "def healthy_patients(healthy_people_dict):\n",
    "    healthy_patients = []\n",
    "    for id, path in healthy_people_dict.items():\n",
    "        samples = io.loadmat(path)['x']\n",
    "        filename = os.path.basename(path)\n",
    "        healthy_people.append(Seizure(id, filename, samples))\n",
    " \n",
    "    return healthy_patients\n",
    "\n",
    "def unhealthy_patients(unhealthy_people_dict, seizure_occurences):\n",
    "    unhealthy_patients = []\n",
    "    for id, path in unhealthy_people_dict.items():\n",
    "        seizure_occ = seizure_occurences[id]\n",
    "        samples = io.loadmat(path)['x']\n",
    "        filename = os.path.basename(path)\n",
    "        unhealthy_people.append(Seizure(id, filename, samples, seizure_occurences=seizure_occ))\n",
    " \n",
    "    return unhealthy_patients"
   ]
  }
 ],
 "metadata": {
  "kernelspec": {
   "display_name": "Python 3 (ipykernel)",
   "language": "python",
   "name": "python3"
  },
  "language_info": {
   "codemirror_mode": {
    "name": "ipython",
    "version": 3
   },
   "file_extension": ".py",
   "mimetype": "text/x-python",
   "name": "python",
   "nbconvert_exporter": "python",
   "pygments_lexer": "ipython3",
   "version": "3.10.1"
  }
 },
 "nbformat": 4,
 "nbformat_minor": 5
}
